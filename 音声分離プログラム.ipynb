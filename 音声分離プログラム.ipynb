{
 "cells": [
  {
   "cell_type": "markdown",
   "metadata": {},
   "source": [
    "# data1"
   ]
  },
  {
   "cell_type": "code",
   "execution_count": 1,
   "metadata": {},
   "outputs": [],
   "source": [
    "from scipy.io.wavfile import read\n",
    "\n",
    "rate1, data1 = read(\"speechA1.wav\")#音声ファイルの読み込み\n",
    "rate2,data2  = read(\"speechA2.wav\")"
   ]
  },
  {
   "cell_type": "code",
   "execution_count": 3,
   "metadata": {},
   "outputs": [
    {
     "data": {
      "text/plain": [
       "matrix([[-3.35738959],\n",
       "        [-3.95349884]])"
      ]
     },
     "execution_count": 3,
     "metadata": {},
     "output_type": "execute_result"
    }
   ],
   "source": [
    "import numpy as np\n",
    "x = np.array([[data1],[data2]])\n",
    "x=np.asmatrix(x)"
   ]
  },
  {
   "cell_type": "code",
   "execution_count": 403,
   "metadata": {},
   "outputs": [],
   "source": [
    "#白色化\n",
    "x=x-np.mean(x,axis=1)\n",
    "Σ=1/x.shape[1]*np.dot(x,x.T)\n",
    "l, P = np.linalg.eig(Σ )\n",
    "# D=np.diag(l), D=P.T*Σ*P\n",
    "L=l**(-0.5)\n",
    "P=P\n",
    "V=np.dot(np.dot(P,np.diag(L)),P.T)\n",
    "z=np.dot(V,x)"
   ]
  },
  {
   "cell_type": "code",
   "execution_count": 404,
   "metadata": {},
   "outputs": [
    {
     "data": {
      "text/plain": [
       "array([[ 0.00579528,  0.99998321],\n",
       "       [ 0.99962184, -0.02749867]])"
      ]
     },
     "execution_count": 404,
     "metadata": {},
     "output_type": "execute_result"
    }
   ],
   "source": [
    "W=np.array([[0.0,0.0],[0.0,0.0]])#Wの初期化\n",
    "flag=0\n",
    "ε=0.0000000000000000001\n",
    "while flag< 2:\n",
    "    w=np.random.rand(2,1)\n",
    "    w=w/np.linalg.norm(w)\n",
    "    while True:\n",
    "        p=w\n",
    "        w=np.dot(z,np.power(w.T*z,3).T)*1/(z.shape[1])-3*w  # 𝔼[𝒛(𝒘⊤𝒛)3] − 3𝒘　(計算の次元を等しくするためにw.T*z,3を転置した)\n",
    "        w= w/np.linalg.norm(w)\n",
    "        if (((w[0]-p[0])**2<ε and (w[1]-p[1])**2<ε)or( (w[0]+p[0])**2<ε and (w[1]+p[1])**2<ε)):\n",
    "            if  (flag==0):\n",
    "                flag+=1\n",
    "                W[0]=w.T\n",
    "                break\n",
    "            if (flag==1):\n",
    "                if  (((w[0]-W[0][0])**2>ε or (w[1]-W[0][1])**2>ε) and ((w[0]+W[0][0])**2>ε or (w[1]+W[0][1])**2>ε)):\n",
    "                    flag+=1\n",
    "                    W[1]=w.T\n",
    "                break\n",
    "        \n",
    "W"
   ]
  },
  {
   "cell_type": "code",
   "execution_count": 81,
   "metadata": {},
   "outputs": [],
   "source": [
    "y=np.dot(W,z)\n",
    "outdata1=y[0].T\n",
    "outdata2=y[1].T#それぞれのデータを元の形に戻す"
   ]
  },
  {
   "cell_type": "code",
   "execution_count": 182,
   "metadata": {},
   "outputs": [],
   "source": [
    "from scipy.io.wavfile import write\n",
    "\n",
    "write(\"data1_1.wav\",rate1 , outdata1)\n",
    "write(\"data1_2.wav\",rate2 , outdata2)"
   ]
  },
  {
   "cell_type": "code",
   "execution_count": null,
   "metadata": {},
   "outputs": [],
   "source": [
    "rate,data5  = read(\"music1.wav\")\n",
    "rate6,data6  = read(\"music2.wav\")"
   ]
  },
  {
   "cell_type": "markdown",
   "metadata": {},
   "source": [
    "# data2"
   ]
  },
  {
   "cell_type": "code",
   "execution_count": 183,
   "metadata": {},
   "outputs": [],
   "source": [
    "rate3,data3  = read(\"speechB1.wav\")\n",
    "rate4,data4  = read(\"speechB2.wav\")\n",
    "rate5,data5  = read(\"speechB3.wav\")"
   ]
  },
  {
   "cell_type": "code",
   "execution_count": 187,
   "metadata": {},
   "outputs": [],
   "source": [
    "x2= np.array([[data3],[data4],[data5]])\n",
    "x2=np.asmatrix(x2)"
   ]
  },
  {
   "cell_type": "code",
   "execution_count": 189,
   "metadata": {},
   "outputs": [
    {
     "data": {
      "text/plain": [
       "matrix([[ 1.00000000e+00,  1.04427593e-14, -8.38094678e-15],\n",
       "        [ 1.04427593e-14,  1.00000000e+00,  2.72834510e-14],\n",
       "        [-8.38094678e-15,  2.72834510e-14,  1.00000000e+00]])"
      ]
     },
     "execution_count": 189,
     "metadata": {},
     "output_type": "execute_result"
    }
   ],
   "source": [
    "x2=x2-np.mean(x2,axis=1)\n",
    "Σ2=1/x2.shape[1]*np.dot(x2,x2.T)\n",
    "l2, P2 = np.linalg.eig(Σ2 )\n",
    "# D=np.diag(l), D=P.T*Σ*P\n",
    "L2=l2**(-0.5)\n",
    "P2=P2\n",
    "V2=np.dot(np.dot(P2,np.diag(L2)),P2.T)\n",
    "z2=np.dot(V2,x2)"
   ]
  },
  {
   "cell_type": "code",
   "execution_count": 391,
   "metadata": {},
   "outputs": [
    {
     "data": {
      "text/plain": [
       "array([[ 2.54713966e-04,  5.30074734e-03,  9.99985919e-01],\n",
       "       [-7.31243751e-03,  9.99933705e-01, -8.89459762e-03],\n",
       "       [ 9.99616988e-01,  2.03787964e-02, -1.87238371e-02]])"
      ]
     },
     "execution_count": 391,
     "metadata": {},
     "output_type": "execute_result"
    }
   ],
   "source": [
    "W2=np.array([[0.0,0.0,0.0],[0.0,0.0,0.0],[0.0,0.0,0.0]])#Wの初期化\n",
    "flag=0\n",
    "ε=0.000000000000000001\n",
    "while flag< 3:\n",
    "    w=np.random.rand(3,1)\n",
    "    w=w/np.linalg.norm(w)\n",
    "    while True:\n",
    "        p=w\n",
    "        w=np.dot(z2,np.power(w.T*z2,3).T)*1/(z2.shape[1])-3*w  # 𝔼[𝒛(𝒘⊤𝒛)3] − 3𝒘　(計算の次元を等しくするためにw.T*z,3を転置した)\n",
    "        w= w/np.linalg.norm(w)\n",
    "        if (((w[0]-p[0])**2<ε and (w[1]-p[1])**2<ε and (w[2]-p[2])**2<ε)or( (w[0]+p[0])**2<ε and (w[1]+p[1])**2<ε and (w[2]+p[2])**2<ε)):\n",
    "            if  (flag==0):\n",
    "                flag+=1\n",
    "                W2[0]=w.T\n",
    "                break\n",
    "            elif (flag==1):\n",
    "                if  (((w[0]-W2[0][0])**2>ε or (w[1]-W2[0][1])**2>ε or (w[2]-W2[0][2])**2>ε  ) and ((w[0]+W2[0][0])**2>ε or (w[1]+W2[0][1])**2>ε or  (w[2]+W2[0][2])**2>ε )):\n",
    "                    flag+=1\n",
    "                    W2[1]=w.T\n",
    "                    break\n",
    "                else:\n",
    "                    w=np.random.rand(3,1)\n",
    "            elif (flag==2):\n",
    "                if  (((w[0]-W2[0][0])**2>ε or (w[1]-W2[0][1])**2>ε or (w[2]-W2[0][2])**2>ε  ) and ((w[0]+W2[0][0])**2>ε or (w[1]+W2[0][1])**2>ε or  (w[2]+W2[0][2])**2>ε )):\n",
    "                    if  (((w[0]-W2[1][0])**2>ε or (w[1]-W2[1][1])**2>ε or (w[2]-W2[1][2])**2>ε  ) and ((w[0]+W2[1][0])**2>ε or (w[1]+W2[1][1])**2>ε or  (w[2]+W2[1][2])**2>ε )):\n",
    "                        flag+=1\n",
    "                        W2[2]=w.T\n",
    "                        break\n",
    "                    else:\n",
    "                        w=np.random.rand(3,1)\n",
    "                else:\n",
    "                    w=np.random.rand(3,1)\n",
    "                \n",
    "        \n",
    "W2\n",
    "                        \n"
   ]
  },
  {
   "cell_type": "code",
   "execution_count": 392,
   "metadata": {},
   "outputs": [],
   "source": [
    "y2=np.dot(W2,z2)\n",
    "outdata3=y2[0].T\n",
    "outdata4=y2[1].T\n",
    "outdata5=y2[2].T\n",
    "#それぞれのデータを元の形に戻す"
   ]
  },
  {
   "cell_type": "code",
   "execution_count": 393,
   "metadata": {},
   "outputs": [],
   "source": [
    "from scipy.io.wavfile import write\n",
    "\n",
    "write(\"data2_1.wav\",rate3 , outdata3)\n",
    "write(\"data2_2.wav\",rate4 , outdata4)\n",
    "write(\"data2_3.wav\",rate5 , outdata5)"
   ]
  },
  {
   "cell_type": "code",
   "execution_count": null,
   "metadata": {},
   "outputs": [],
   "source": []
  },
  {
   "cell_type": "markdown",
   "metadata": {},
   "source": [
    "# data3\n"
   ]
  },
  {
   "cell_type": "code",
   "execution_count": 395,
   "metadata": {},
   "outputs": [],
   "source": [
    "rate6,data6  = read(\"music1.wav\")\n",
    "rate7,data7  = read(\"music2.wav\")"
   ]
  },
  {
   "cell_type": "code",
   "execution_count": 396,
   "metadata": {},
   "outputs": [],
   "source": [
    "x3= np.array([[data6],[data7]])\n",
    "x3=np.asmatrix(x3)"
   ]
  },
  {
   "cell_type": "code",
   "execution_count": 397,
   "metadata": {},
   "outputs": [],
   "source": [
    "#白色化\n",
    "x3=x3-np.mean(x3,axis=1)\n",
    "Σ3=1/x3.shape[1]*np.dot(x3,x3.T)\n",
    "l3, P3 = np.linalg.eig(Σ3 )\n",
    "# D=np.diag(l), D=P.T*Σ*P\n",
    "L3=l3**(-0.5)\n",
    "P3=P3\n",
    "V3=np.dot(np.dot(P3,np.diag(L3)),P3.T)\n",
    "z3=np.dot(V3,x3)"
   ]
  },
  {
   "cell_type": "code",
   "execution_count": 398,
   "metadata": {},
   "outputs": [
    {
     "data": {
      "text/plain": [
       "array([[ 0.00579528,  0.99998321],\n",
       "       [ 0.99962184, -0.02749867]])"
      ]
     },
     "execution_count": 398,
     "metadata": {},
     "output_type": "execute_result"
    }
   ],
   "source": [
    "W3=np.array([[0.0,0.0],[0.0,0.0]])#Wの初期化\n",
    "flag=0\n",
    "ε=0.0000000000000000001\n",
    "while flag< 2:\n",
    "    w=np.random.rand(2,1)\n",
    "    w=w/np.linalg.norm(w)\n",
    "    while True:\n",
    "        p=w\n",
    "        w=np.dot(z3,np.power(w.T*z3,3).T)*1/(z3.shape[1])-3*w  # 𝔼[𝒛(𝒘⊤𝒛)3] − 3𝒘　(計算の次元を等しくするためにw.T*z,3を転置した)\n",
    "        w= w/np.linalg.norm(w)\n",
    "        if (((w[0]-p[0])**2<ε and (w[1]-p[1])**2<ε)or( (w[0]+p[0])**2<ε and (w[1]+p[1])**2<ε)):\n",
    "            if  (flag==0):\n",
    "                flag+=1\n",
    "                W3[0]=w.T\n",
    "                break\n",
    "            if (flag==1):\n",
    "                if  (((w[0]-W3[0][0])**2>ε or (w[1]-W3[0][1])**2>ε) and ((w[0]+W3[0][0])**2>ε or (w[1]+W3[0][1])**2>ε)):\n",
    "                    flag+=1\n",
    "                    W3[1]=w.T\n",
    "                break\n",
    "        \n",
    "W"
   ]
  },
  {
   "cell_type": "code",
   "execution_count": 399,
   "metadata": {},
   "outputs": [],
   "source": [
    "y3=np.dot(W3,z3)\n",
    "outdata6=y3[0].T\n",
    "outdata7=y3[1].T#それぞれのデータを元の形に戻す"
   ]
  },
  {
   "cell_type": "code",
   "execution_count": 400,
   "metadata": {},
   "outputs": [],
   "source": [
    "from scipy.io.wavfile import write\n",
    "\n",
    "write(\"data3_1.wav\",rate6 , outdata6)\n",
    "write(\"data3_2.wav\",rate7 , outdata7)"
   ]
  },
  {
   "cell_type": "code",
   "execution_count": null,
   "metadata": {},
   "outputs": [],
   "source": []
  },
  {
   "cell_type": "code",
   "execution_count": null,
   "metadata": {},
   "outputs": [],
   "source": []
  }
 ],
 "metadata": {
  "kernelspec": {
   "display_name": "Python 3",
   "language": "python",
   "name": "python3"
  },
  "language_info": {
   "codemirror_mode": {
    "name": "ipython",
    "version": 3
   },
   "file_extension": ".py",
   "mimetype": "text/x-python",
   "name": "python",
   "nbconvert_exporter": "python",
   "pygments_lexer": "ipython3",
   "version": "3.7.1"
  }
 },
 "nbformat": 4,
 "nbformat_minor": 2
}
